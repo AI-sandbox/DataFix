{
 "cells": [
  {
   "cell_type": "code",
   "execution_count": 1,
   "metadata": {},
   "outputs": [],
   "source": [
    "import numpy as np\n",
    "\n",
    "from BER_estimator_KDtree import ensemble_bg_estimator as BER\n",
    "from sklearn import svm, datasets\n",
    "from sklearn import neighbors\n",
    "from sklearn.datasets import make_classification"
   ]
  },
  {
   "cell_type": "code",
   "execution_count": 6,
   "metadata": {},
   "outputs": [
    {
     "name": "stdout",
     "output_type": "stream",
     "text": [
      "0.1035097377012314\n"
     ]
    }
   ],
   "source": [
    "N = 1000\n",
    "dim = 20\n",
    "n_class = 4\n",
    "mean_shift = 1\n",
    "\n",
    "# Make a classification problem\n",
    "X, Y = make_classification(\n",
    "    n_samples=N,\n",
    "    n_features=dim,\n",
    "    n_redundant=0,\n",
    "    n_informative=dim,\n",
    "    n_classes=n_class,\n",
    "    class_sep=mean_shift,\n",
    "    flip_y=0.001,\n",
    "    n_clusters_per_class=1,\n",
    ")\n",
    "\n",
    "# Estimate Bayes Error Rate\n",
    "A = BER(X, Y)\n",
    "\n",
    "# print the result\n",
    "print(A)"
   ]
  },
  {
   "cell_type": "code",
   "execution_count": null,
   "metadata": {},
   "outputs": [],
   "source": []
  }
 ],
 "metadata": {
  "kernelspec": {
   "display_name": "Python 3 (ipykernel)",
   "language": "python",
   "name": "python3"
  },
  "language_info": {
   "codemirror_mode": {
    "name": "ipython",
    "version": 3
   },
   "file_extension": ".py",
   "mimetype": "text/x-python",
   "name": "python",
   "nbconvert_exporter": "python",
   "pygments_lexer": "ipython3",
   "version": "3.9.7"
  }
 },
 "nbformat": 4,
 "nbformat_minor": 4
}
